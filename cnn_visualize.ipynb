{
 "cells": [
  {
   "cell_type": "code",
   "execution_count": 3,
   "metadata": {},
   "outputs": [
    {
     "name": "stdout",
     "output_type": "stream",
     "text": [
      "0 conv2d (None, 75, 75, 64)\n",
      "1 batch_normalization (None, 75, 75, 64)\n",
      "2 activation (None, 75, 75, 64)\n",
      "3 max_pooling2d (None, 25, 25, 64)\n",
      "4 conv2d_1 (None, 25, 25, 128)\n",
      "5 batch_normalization_1 (None, 25, 25, 128)\n",
      "6 activation_1 (None, 25, 25, 128)\n",
      "7 max_pooling2d_1 (None, 13, 13, 128)\n",
      "8 conv2d_2 (None, 13, 13, 256)\n",
      "9 batch_normalization_2 (None, 13, 13, 256)\n",
      "10 activation_2 (None, 13, 13, 256)\n",
      "11 max_pooling2d_2 (None, 7, 7, 256)\n",
      "12 conv2d_3 (None, 7, 7, 256)\n",
      "13 batch_normalization_3 (None, 7, 7, 256)\n",
      "14 activation_3 (None, 7, 7, 256)\n",
      "15 max_pooling2d_3 (None, 4, 4, 256)\n",
      "16 flatten (None, 4096)\n",
      "17 dense (None, 1024)\n",
      "18 batch_normalization_4 (None, 1024)\n",
      "19 activation_4 (None, 1024)\n",
      "20 dense_1 (None, 1024)\n",
      "21 batch_normalization_5 (None, 1024)\n",
      "22 activation_5 (None, 1024)\n",
      "23 dense_2 (None, 4)\n",
      "24 activation_6 (None, 4)\n"
     ]
    }
   ],
   "source": [
    "from tensorflow.keras.models import load_model\n",
    "from tensorflow.keras.preprocessing.image import load_img\n",
    "from tensorflow.keras.models import Model\n",
    "import numpy as np\n",
    "import matplotlib.pyplot as plt\n",
    "import matplotlib as mpl\n",
    "mpl.rcParams['figure.dpi']= 120\n",
    "\n",
    "\n",
    "model = load_model('ToneNet.hdf5')\n",
    "for i in range(len(model.layers)):\n",
    "    layer = model.layers[i]\n",
    "    print(i, layer.name, layer.output.shape)\n",
    "\n",
    "submodel = Model(inputs=model.inputs, outputs=model.layers[15].output)"
   ]
  },
  {
   "cell_type": "code",
   "execution_count": 4,
   "metadata": {},
   "outputs": [
    {
     "data": {
      "image/png": "[encoded data removed]",
      "text/plain": [
       "<Figure size 720x480 with 64 Axes>"
      ]
     },
     "metadata": {},
     "output_type": "display_data"
    }
   ],
   "source": [
    "img_path = f'feats/1/IC0109W0479_uo2_1.46.jpg'\n",
    "img = load_img(img_path, color_mode=\"grayscale\")\n",
    "img = np.expand_dims(np.asarray(img), axis=0)\n",
    "img = np.expand_dims(np.asarray(img), axis=3)\n",
    "feature_maps = submodel.predict(img)\n",
    "\n",
    "square = 8  # sample 64 filters\n",
    "i = 1\n",
    "for _ in range(square):\n",
    "    for _ in range(square):\n",
    "        ax = plt.subplot(square, square, i)\n",
    "        ax.set_xticks([])\n",
    "        ax.set_yticks([])\n",
    "        # plot filter channel in grayscale\n",
    "        plt.imshow(feature_maps[0, :, :, i - 1], cmap='gray')\n",
    "        i += 1\n",
    "# show the figure\n",
    "plt.show()\n",
    "plt.close('all')"
   ]
  },
  {
   "cell_type": "code",
   "execution_count": null,
   "metadata": {},
   "outputs": [],
   "source": []
  }
 ],
 "metadata": {
  "kernelspec": {
   "display_name": "Python 3",
   "language": "python",
   "name": "python3"
  },
  "language_info": {
   "codemirror_mode": {
    "name": "ipython",
    "version": 3
   },
   "file_extension": ".py",
   "mimetype": "text/x-python",
   "name": "python",
   "nbconvert_exporter": "python",
   "pygments_lexer": "ipython3",
   "version": "3.7.4"
  }
 },
 "nbformat": 4,
 "nbformat_minor": 4
}
